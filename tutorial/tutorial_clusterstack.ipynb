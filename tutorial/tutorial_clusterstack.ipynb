{
 "cells": [
  {
   "cell_type": "code",
   "execution_count": 1,
   "metadata": {},
   "outputs": [],
   "source": [
    "# Cluster in space\n",
    "\n",
    "from eqcorrscan.utils.clustering import catalog_cluster\n",
    "from obspy.clients.fdsn import Client\n",
    "from obspy import UTCDateTime\n",
    "\n",
    "client = Client(\"IRIS\")\n",
    "starttime = UTCDateTime(\"2002-01-01\")\n",
    "endtime = UTCDateTime(\"2002-02-01\")\n",
    "cat = client.get_events(starttime=starttime, endtime=endtime,\n",
    "                        minmagnitude=6, catalog=\"ISC\")\n",
    "groups = catalog_cluster(\n",
    "    catalog=cat, metric=\"distance\", thresh=1000, show=False)"
   ]
  },
  {
   "cell_type": "code",
   "execution_count": 2,
   "metadata": {},
   "outputs": [],
   "source": [
    "# Download a local catalog of earthquakes and cluster much finer\n",
    "\n",
    "client = Client(\"NCEDC\")\n",
    "cat = client.get_events(starttime=starttime, endtime=endtime,\n",
    "                        minmagnitude=2)\n",
    "groups = catalog_cluster(\n",
    "    catalog=cat, metric=\"distance\", thresh=2, show=False)"
   ]
  },
  {
   "cell_type": "code",
   "execution_count": 3,
   "metadata": {},
   "outputs": [],
   "source": [
    "# Cluster in time and space\n",
    "\n",
    "from eqcorrscan.utils.clustering import space_time_cluster\n",
    "client = Client(\"IRIS\")\n",
    "cat = client.get_events(starttime=starttime, endtime=endtime,\n",
    "                        minmagnitude=6, catalog=\"ISC\")\n",
    "groups = space_time_cluster(catalog=cat, t_thresh=86400, d_thresh=1000)"
   ]
  },
  {
   "cell_type": "code",
   "execution_count": 4,
   "metadata": {},
   "outputs": [
    {
     "ename": "ValueError",
     "evalue": "array must be at least 2-d",
     "output_type": "error",
     "traceback": [
      "\u001b[0;31m---------------------------------------------------------------------------\u001b[0m",
      "\u001b[0;31mValueError\u001b[0m                                Traceback (most recent call last)",
      "\u001b[0;32m<ipython-input-4-310c394206a9>\u001b[0m in \u001b[0;36m<module>\u001b[0;34m\u001b[0m\n\u001b[1;32m     17\u001b[0m             \u001b[0mstream\u001b[0m\u001b[0;34m[\u001b[0m\u001b[0;36m0\u001b[0m\u001b[0;34m]\u001b[0m\u001b[0;34m.\u001b[0m\u001b[0mremove\u001b[0m\u001b[0;34m(\u001b[0m\u001b[0mtr\u001b[0m\u001b[0;34m)\u001b[0m\u001b[0;34m\u001b[0m\u001b[0;34m\u001b[0m\u001b[0m\n\u001b[1;32m     18\u001b[0m             \u001b[0;32mcontinue\u001b[0m\u001b[0;34m\u001b[0m\u001b[0;34m\u001b[0m\u001b[0m\n\u001b[0;32m---> 19\u001b[0;31m groups = cluster(template_list=stream_list, show=False,\n\u001b[0m\u001b[1;32m     20\u001b[0m                  corr_thresh=0.3, cores=2)\n",
      "\u001b[0;32m~/opt/anaconda3/envs/eqcorrscan/lib/python3.8/site-packages/eqcorrscan/utils/clustering.py\u001b[0m in \u001b[0;36mcluster\u001b[0;34m(template_list, show, corr_thresh, shift_len, save_corrmat, cores)\u001b[0m\n\u001b[1;32m    189\u001b[0m     \u001b[0;31m# Compute the distance matrix\u001b[0m\u001b[0;34m\u001b[0m\u001b[0;34m\u001b[0m\u001b[0;34m\u001b[0m\u001b[0m\n\u001b[1;32m    190\u001b[0m     \u001b[0mLogger\u001b[0m\u001b[0;34m.\u001b[0m\u001b[0minfo\u001b[0m\u001b[0;34m(\u001b[0m\u001b[0;34m'Computing the distance matrix using %i cores'\u001b[0m \u001b[0;34m%\u001b[0m \u001b[0mnum_cores\u001b[0m\u001b[0;34m)\u001b[0m\u001b[0;34m\u001b[0m\u001b[0;34m\u001b[0m\u001b[0m\n\u001b[0;32m--> 191\u001b[0;31m     dist_mat = distance_matrix(\n\u001b[0m\u001b[1;32m    192\u001b[0m         stream_list=stream_list, shift_len=shift_len, cores=num_cores)\n\u001b[1;32m    193\u001b[0m     \u001b[0;32mif\u001b[0m \u001b[0msave_corrmat\u001b[0m\u001b[0;34m:\u001b[0m\u001b[0;34m\u001b[0m\u001b[0;34m\u001b[0m\u001b[0m\n",
      "\u001b[0;32m~/opt/anaconda3/envs/eqcorrscan/lib/python3.8/site-packages/eqcorrscan/utils/clustering.py\u001b[0m in \u001b[0;36mdistance_matrix\u001b[0;34m(stream_list, shift_len, cores)\u001b[0m\n\u001b[1;32m    138\u001b[0m     \u001b[0;31m# Force perfect symmetry\u001b[0m\u001b[0;34m\u001b[0m\u001b[0;34m\u001b[0m\u001b[0;34m\u001b[0m\u001b[0m\n\u001b[1;32m    139\u001b[0m     \u001b[0mdist_mat\u001b[0m \u001b[0;34m=\u001b[0m \u001b[0;34m(\u001b[0m\u001b[0mdist_mat\u001b[0m \u001b[0;34m+\u001b[0m \u001b[0mdist_mat\u001b[0m\u001b[0;34m.\u001b[0m\u001b[0mT\u001b[0m\u001b[0;34m)\u001b[0m \u001b[0;34m/\u001b[0m \u001b[0;36m2\u001b[0m\u001b[0;34m\u001b[0m\u001b[0;34m\u001b[0m\u001b[0m\n\u001b[0;32m--> 140\u001b[0;31m     \u001b[0mnp\u001b[0m\u001b[0;34m.\u001b[0m\u001b[0mfill_diagonal\u001b[0m\u001b[0;34m(\u001b[0m\u001b[0mdist_mat\u001b[0m\u001b[0;34m,\u001b[0m \u001b[0;36m0\u001b[0m\u001b[0;34m)\u001b[0m\u001b[0;34m\u001b[0m\u001b[0;34m\u001b[0m\u001b[0m\n\u001b[0m\u001b[1;32m    141\u001b[0m     \u001b[0;32mreturn\u001b[0m \u001b[0mdist_mat\u001b[0m\u001b[0;34m\u001b[0m\u001b[0;34m\u001b[0m\u001b[0m\n\u001b[1;32m    142\u001b[0m \u001b[0;34m\u001b[0m\u001b[0m\n",
      "\u001b[0;32m<__array_function__ internals>\u001b[0m in \u001b[0;36mfill_diagonal\u001b[0;34m(*args, **kwargs)\u001b[0m\n",
      "\u001b[0;32m~/opt/anaconda3/envs/eqcorrscan/lib/python3.8/site-packages/numpy/lib/index_tricks.py\u001b[0m in \u001b[0;36mfill_diagonal\u001b[0;34m(a, val, wrap)\u001b[0m\n\u001b[1;32m    857\u001b[0m     \"\"\"\n\u001b[1;32m    858\u001b[0m     \u001b[0;32mif\u001b[0m \u001b[0ma\u001b[0m\u001b[0;34m.\u001b[0m\u001b[0mndim\u001b[0m \u001b[0;34m<\u001b[0m \u001b[0;36m2\u001b[0m\u001b[0;34m:\u001b[0m\u001b[0;34m\u001b[0m\u001b[0;34m\u001b[0m\u001b[0m\n\u001b[0;32m--> 859\u001b[0;31m         \u001b[0;32mraise\u001b[0m \u001b[0mValueError\u001b[0m\u001b[0;34m(\u001b[0m\u001b[0;34m\"array must be at least 2-d\"\u001b[0m\u001b[0;34m)\u001b[0m\u001b[0;34m\u001b[0m\u001b[0;34m\u001b[0m\u001b[0m\n\u001b[0m\u001b[1;32m    860\u001b[0m     \u001b[0mend\u001b[0m \u001b[0;34m=\u001b[0m \u001b[0;32mNone\u001b[0m\u001b[0;34m\u001b[0m\u001b[0;34m\u001b[0m\u001b[0m\n\u001b[1;32m    861\u001b[0m     \u001b[0;32mif\u001b[0m \u001b[0ma\u001b[0m\u001b[0;34m.\u001b[0m\u001b[0mndim\u001b[0m \u001b[0;34m==\u001b[0m \u001b[0;36m2\u001b[0m\u001b[0;34m:\u001b[0m\u001b[0;34m\u001b[0m\u001b[0;34m\u001b[0m\u001b[0m\n",
      "\u001b[0;31mValueError\u001b[0m: array must be at least 2-d"
     ]
    }
   ],
   "source": [
    "# Cluster according to cross-correlation values\n",
    "from obspy import read\n",
    "import glob\n",
    "import os\n",
    "from eqcorrscan.utils.clustering import cluster\n",
    "from eqcorrscan import tests\n",
    "\n",
    "# You will need to edit this line to the location of your eqcorrscan repo.\n",
    "TEST_PATH = os.path.dirname(tests.__file__)\n",
    "testing_path = TEST_PATH + '/test_data/similar_events_processed'\n",
    "stream_files = glob.glob(os.path.join(testing_path, '*'))\n",
    "stream_list = [(read(stream_file), i)\n",
    "               for i, stream_file in enumerate(stream_files)]\n",
    "for stream in stream_list:\n",
    "    for tr in stream[0]:\n",
    "        if tr.stats.station not in ['WHAT2', 'WV04', 'GCSZ']:\n",
    "            stream[0].remove(tr) \n",
    "            continue\n",
    "groups = cluster(template_list=stream_list, show=False,\n",
    "                 corr_thresh=0.3, cores=2)"
   ]
  },
  {
   "cell_type": "code",
   "execution_count": null,
   "metadata": {},
   "outputs": [],
   "source": [
    "# Stack waveforms (linear)\n",
    "\n",
    "from eqcorrscan.utils.stacking import linstack\n",
    "\n",
    "# groups[0] should contain 3 streams, which we can now stack\n",
    "# Groups are returned as lists of tuples, of the stream and event index\n",
    "group_streams = [st_tuple[0] for st_tuple in groups[0]]\n",
    "stack = linstack(streams=group_streams)"
   ]
  },
  {
   "cell_type": "code",
   "execution_count": null,
   "metadata": {},
   "outputs": [],
   "source": [
    "# Stack waveforms (phase-weighted)\n",
    "\n",
    "from eqcorrscan.utils.stacking import PWS_stack\n",
    "\n",
    "# groups[0] should contain 3 streams, which we can now stack\n",
    "# Groups are returned as lists of tuples, of the stream and event index\n",
    "stack = PWS_stack(streams=group_streams)"
   ]
  }
 ],
 "metadata": {
  "kernelspec": {
   "display_name": "eqcorrscan",
   "language": "python",
   "name": "eqcorrscan"
  },
  "language_info": {
   "codemirror_mode": {
    "name": "ipython",
    "version": 3
   },
   "file_extension": ".py",
   "mimetype": "text/x-python",
   "name": "python",
   "nbconvert_exporter": "python",
   "pygments_lexer": "ipython3",
   "version": "3.8.6"
  }
 },
 "nbformat": 4,
 "nbformat_minor": 4
}
