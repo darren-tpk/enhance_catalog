{
 "cells": [
  {
   "cell_type": "code",
   "execution_count": 4,
   "metadata": {},
   "outputs": [
    {
     "name": "stderr",
     "output_type": "stream",
     "text": [
      "Proceed with caution: this function is experimental and somewhat stochastic - you should run this multiple times to ensure you get a stable result.\n"
     ]
    },
    {
     "ename": "ValueError",
     "evalue": "max() arg is an empty sequence",
     "output_type": "error",
     "traceback": [
      "\u001b[0;31m---------------------------------------------------------------------------\u001b[0m",
      "\u001b[0;31mValueError\u001b[0m                                Traceback (most recent call last)",
      "\u001b[0;32m<ipython-input-4-7883f6da6c1d>\u001b[0m in \u001b[0;36m<module>\u001b[0;34m\u001b[0m\n\u001b[1;32m     29\u001b[0m \u001b[0mevent_list\u001b[0m \u001b[0;34m=\u001b[0m \u001b[0mnp\u001b[0m\u001b[0;34m.\u001b[0m\u001b[0masarray\u001b[0m\u001b[0;34m(\u001b[0m\u001b[0mevent_list\u001b[0m\u001b[0;34m)\u001b[0m\u001b[0;34m.\u001b[0m\u001b[0mT\u001b[0m\u001b[0;34m.\u001b[0m\u001b[0mtolist\u001b[0m\u001b[0;34m(\u001b[0m\u001b[0;34m)\u001b[0m\u001b[0;34m\u001b[0m\u001b[0;34m\u001b[0m\u001b[0m\n\u001b[1;32m     30\u001b[0m \u001b[0mSVectors\u001b[0m\u001b[0;34m,\u001b[0m \u001b[0mSValues\u001b[0m\u001b[0;34m,\u001b[0m \u001b[0mUvectors\u001b[0m\u001b[0;34m,\u001b[0m \u001b[0mstachans\u001b[0m \u001b[0;34m=\u001b[0m \u001b[0msvd\u001b[0m\u001b[0;34m(\u001b[0m\u001b[0mstream_list\u001b[0m\u001b[0;34m=\u001b[0m\u001b[0mstream_list\u001b[0m\u001b[0;34m)\u001b[0m\u001b[0;34m\u001b[0m\u001b[0;34m\u001b[0m\u001b[0m\n\u001b[0;32m---> 31\u001b[0;31m M, events_out = svd_moments(u=Uvectors, s=SValues, v=SVectors,\n\u001b[0m\u001b[1;32m     32\u001b[0m                             stachans=stachans, event_list=event_list) \n",
      "\u001b[0;32m~/opt/anaconda3/envs/eqcorrscan/lib/python3.8/site-packages/eqcorrscan/utils/mag_calc.py\u001b[0m in \u001b[0;36msvd_moments\u001b[0;34m(u, s, v, stachans, event_list, n_svs)\u001b[0m\n\u001b[1;32m   1056\u001b[0m         \" a stable result.\")\n\u001b[1;32m   1057\u001b[0m     \u001b[0;31m# Define maximum number of events, will be the width of K\u001b[0m\u001b[0;34m\u001b[0m\u001b[0;34m\u001b[0m\u001b[0;34m\u001b[0m\u001b[0m\n\u001b[0;32m-> 1058\u001b[0;31m     \u001b[0mK_width\u001b[0m \u001b[0;34m=\u001b[0m \u001b[0mmax\u001b[0m\u001b[0;34m(\u001b[0m\u001b[0;34m[\u001b[0m\u001b[0mmax\u001b[0m\u001b[0;34m(\u001b[0m\u001b[0mev_list\u001b[0m\u001b[0;34m)\u001b[0m \u001b[0;32mfor\u001b[0m \u001b[0mev_list\u001b[0m \u001b[0;32min\u001b[0m \u001b[0mevent_list\u001b[0m\u001b[0;34m]\u001b[0m\u001b[0;34m)\u001b[0m \u001b[0;34m+\u001b[0m \u001b[0;36m1\u001b[0m\u001b[0;34m\u001b[0m\u001b[0;34m\u001b[0m\u001b[0m\n\u001b[0m\u001b[1;32m   1059\u001b[0m     \u001b[0;31m# Sometimes the randomisation generates a singular matrix - rather than\u001b[0m\u001b[0;34m\u001b[0m\u001b[0;34m\u001b[0m\u001b[0;34m\u001b[0m\u001b[0m\n\u001b[1;32m   1060\u001b[0m     \u001b[0;31m# attempting to regulerize this matrix I propose undertaking the\u001b[0m\u001b[0;34m\u001b[0m\u001b[0;34m\u001b[0m\u001b[0;34m\u001b[0m\u001b[0m\n",
      "\u001b[0;31mValueError\u001b[0m: max() arg is an empty sequence"
     ]
    }
   ],
   "source": [
    "# Relative moment by singular-value decomposition\n",
    "# Closely follows method outlines by Rubinstein & Ellsworth 2010\n",
    "\n",
    "from eqcorrscan.utils.mag_calc import svd_moments\n",
    "from obspy import read\n",
    "import glob\n",
    "from eqcorrscan.utils.clustering import svd\n",
    "import numpy as np\n",
    "from eqcorrscan import tests\n",
    "import os\n",
    "# Get the path for the test-data so we can test this\n",
    "testing_path = os.path.dirname(\n",
    "    tests.__file__) + '/test_data/similar_events_processed'\n",
    "stream_files = glob.glob(os.path.join(testing_path, '*'))\n",
    "stream_list = [read(stream_file) for stream_file in stream_files]\n",
    "event_list = []\n",
    "for i, stream in enumerate(stream_list): \n",
    "    st_list = []\n",
    "    for tr in stream:\n",
    "        # Only use the vertical channels of sites with known high similarity.\n",
    "        # You do not need to use this step for your data.\n",
    "        if (tr.stats.station, tr.stats.channel) not in\\\n",
    "                [('WHAT2', 'SH1'), ('WV04', 'SHZ'), ('GCSZ', 'EHZ')]:\n",
    "            stream.remove(tr)\n",
    "            continue\n",
    "        st_list.append(i)\n",
    "    event_list.append(st_list)\n",
    "\n",
    "event_list = np.asarray(event_list).T.tolist()\n",
    "SVectors, SValues, Uvectors, stachans = svd(stream_list=stream_list)\n",
    "M, events_out = svd_moments(u=Uvectors, s=SValues, v=SVectors,\n",
    "                            stachans=stachans, event_list=event_list) "
   ]
  },
  {
   "cell_type": "code",
   "execution_count": null,
   "metadata": {},
   "outputs": [],
   "source": []
  },
  {
   "cell_type": "code",
   "execution_count": null,
   "metadata": {},
   "outputs": [],
   "source": []
  }
 ],
 "metadata": {
  "kernelspec": {
   "display_name": "eqcorrscan",
   "language": "python",
   "name": "eqcorrscan"
  },
  "language_info": {
   "codemirror_mode": {
    "name": "ipython",
    "version": 3
   },
   "file_extension": ".py",
   "mimetype": "text/x-python",
   "name": "python",
   "nbconvert_exporter": "python",
   "pygments_lexer": "ipython3",
   "version": "3.8.6"
  }
 },
 "nbformat": 4,
 "nbformat_minor": 4
}
